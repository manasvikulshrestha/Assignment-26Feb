{
 "cells": [
  {
   "cell_type": "markdown",
   "id": "609f6e09-5a04-40df-9e40-32a2f25d980e",
   "metadata": {},
   "source": [
    "Consider the below code to answer further questions:\n",
    "import numpy as np\n",
    "list_ = [ ‘1’ , ’2’ , ‘3’ , ‘4’ , ‘5’ ]\n",
    "array_list = np.array(object = list_)\n",
    "Q1. Is there any difference in the data type of variables list_ and array_list? If there is then write a code\n",
    "to print the data types of both the variables.\n",
    "A1. Yes the datatypes of them both differ as list_ is of list datatype and array_list is a numpy array."
   ]
  },
  {
   "cell_type": "code",
   "execution_count": 1,
   "id": "cda7ec03-b25b-40da-8597-01f93a015b09",
   "metadata": {},
   "outputs": [
    {
     "name": "stdout",
     "output_type": "stream",
     "text": [
      "Data type of list_: <class 'list'>\n",
      "Data type of array_list: <class 'numpy.ndarray'>\n"
     ]
    }
   ],
   "source": [
    "import numpy as np\n",
    "\n",
    "# Q1\n",
    "list_ = ['1', '2', '3', '4', '5']\n",
    "array_list = np.array(object=list_)\n",
    "print(\"Data type of list_:\", type(list_))\n",
    "print(\"Data type of array_list:\", type(array_list))\n"
   ]
  },
  {
   "cell_type": "markdown",
   "id": "29435eb3-262c-4980-875a-15a7e3b26c39",
   "metadata": {},
   "source": [
    "Q2. Write a code to print the data type of each and every element of both the variables list_ and\n",
    "array_list."
   ]
  },
  {
   "cell_type": "code",
   "execution_count": 2,
   "id": "d05e0710-a7f6-44bc-9da7-999eec6b7e20",
   "metadata": {},
   "outputs": [
    {
     "name": "stdout",
     "output_type": "stream",
     "text": [
      "Data type of element in list_: <class 'str'>\n",
      "Data type of element in list_: <class 'str'>\n",
      "Data type of element in list_: <class 'str'>\n",
      "Data type of element in list_: <class 'str'>\n",
      "Data type of element in list_: <class 'str'>\n",
      "Data type of element in array_list: <class 'numpy.str_'>\n",
      "Data type of element in array_list: <class 'numpy.str_'>\n",
      "Data type of element in array_list: <class 'numpy.str_'>\n",
      "Data type of element in array_list: <class 'numpy.str_'>\n",
      "Data type of element in array_list: <class 'numpy.str_'>\n"
     ]
    }
   ],
   "source": [
    "# Q2\n",
    "for element in list_:\n",
    "    print(\"Data type of element in list_:\", type(element))\n",
    "for element in array_list:\n",
    "    print(\"Data type of element in array_list:\", type(element))\n"
   ]
  },
  {
   "cell_type": "markdown",
   "id": "ab62bbf7-4788-4e79-a819-6fdd120a5ce5",
   "metadata": {},
   "source": [
    "Q3. Considering the following changes in the variable, array_list:\n",
    "array_list = np.array(object = list_, dtype = int)\n",
    "Will there be any difference in the data type of the elements present in both the variables, list_ and\n",
    "array_list? If so then print the data types of each and every element present in both the variables, list_\n",
    "and array_list."
   ]
  },
  {
   "cell_type": "code",
   "execution_count": 3,
   "id": "9157e415-7b88-42ad-a7ff-bbba32bd944f",
   "metadata": {},
   "outputs": [
    {
     "name": "stdout",
     "output_type": "stream",
     "text": [
      "Data type of element in list_: <class 'str'>\n",
      "Data type of element in list_: <class 'str'>\n",
      "Data type of element in list_: <class 'str'>\n",
      "Data type of element in list_: <class 'str'>\n",
      "Data type of element in list_: <class 'str'>\n",
      "Data type of element in array_list: <class 'numpy.int64'>\n",
      "Data type of element in array_list: <class 'numpy.int64'>\n",
      "Data type of element in array_list: <class 'numpy.int64'>\n",
      "Data type of element in array_list: <class 'numpy.int64'>\n",
      "Data type of element in array_list: <class 'numpy.int64'>\n"
     ]
    }
   ],
   "source": [
    "# Q3\n",
    "array_list = np.array(object=list_, dtype=int)\n",
    "for element in list_:\n",
    "    print(\"Data type of element in list_:\", type(element))\n",
    "for element in array_list:\n",
    "    print(\"Data type of element in array_list:\", type(element))\n"
   ]
  },
  {
   "cell_type": "markdown",
   "id": "cb748557-1f25-463d-9277-3c4301f25bde",
   "metadata": {},
   "source": [
    "Consider the below code to answer further questions:\n",
    "import numpy as np\n",
    "num_list = [ [ 1 , 2 , 3 ] , [ 4 , 5 , 6 ] ]\n",
    "num_array = np.array(object = num_list)\n",
    "Q4. Write a code to find the following characteristics of variable, num_array:\n",
    "(i) shape\n",
    "(ii) size"
   ]
  },
  {
   "cell_type": "code",
   "execution_count": 4,
   "id": "abebc603-863f-4405-aa8f-9d573d4e8fee",
   "metadata": {},
   "outputs": [
    {
     "name": "stdout",
     "output_type": "stream",
     "text": [
      "Shape of num_array: (2, 3)\n",
      "Size of num_array: 6\n"
     ]
    }
   ],
   "source": [
    "# Q4\n",
    "num_list = [[1, 2, 3], [4, 5, 6]]\n",
    "num_array = np.array(object=num_list)\n",
    "print(\"Shape of num_array:\", num_array.shape)\n",
    "print(\"Size of num_array:\", num_array.size)\n"
   ]
  },
  {
   "cell_type": "markdown",
   "id": "d368f854-2134-451c-958d-f9c0b646f41f",
   "metadata": {},
   "source": [
    "Q5. Write a code to create numpy array of 3*3 matrix containing zeros only, using a numpy array\n",
    "creation function.\n",
    "[Hint: The size of the array will be 9 and the shape will be (3,3).]"
   ]
  },
  {
   "cell_type": "code",
   "execution_count": 5,
   "id": "74b0f114-58a7-4eff-af3d-5090bfa3b616",
   "metadata": {},
   "outputs": [
    {
     "name": "stdout",
     "output_type": "stream",
     "text": [
      "Array of zeros:\n",
      "[[0. 0. 0.]\n",
      " [0. 0. 0.]\n",
      " [0. 0. 0.]]\n"
     ]
    }
   ],
   "source": [
    "# Q5\n",
    "zeros_array = np.zeros((3, 3))\n",
    "print(\"Array of zeros:\")\n",
    "print(zeros_array)\n"
   ]
  },
  {
   "cell_type": "markdown",
   "id": "342032d3-713b-4d55-b7d0-736345d8e360",
   "metadata": {},
   "source": [
    "Q6. Create an identity matrix of shape (5,5) using numpy functions?\n",
    "[Hint: An identity matrix is a matrix containing 1 diagonally and other elements will be 0.]"
   ]
  },
  {
   "cell_type": "code",
   "execution_count": 6,
   "id": "1dfb8670-560d-4758-adb1-6fb7feaee053",
   "metadata": {},
   "outputs": [
    {
     "name": "stdout",
     "output_type": "stream",
     "text": [
      "Identity matrix:\n",
      "[[1. 0. 0. 0. 0.]\n",
      " [0. 1. 0. 0. 0.]\n",
      " [0. 0. 1. 0. 0.]\n",
      " [0. 0. 0. 1. 0.]\n",
      " [0. 0. 0. 0. 1.]]\n"
     ]
    }
   ],
   "source": [
    "# Q6\n",
    "identity_matrix = np.eye(5)\n",
    "print(\"Identity matrix:\")\n",
    "print(identity_matrix)\n"
   ]
  }
 ],
 "metadata": {
  "kernelspec": {
   "display_name": "Python 3 (ipykernel)",
   "language": "python",
   "name": "python3"
  },
  "language_info": {
   "codemirror_mode": {
    "name": "ipython",
    "version": 3
   },
   "file_extension": ".py",
   "mimetype": "text/x-python",
   "name": "python",
   "nbconvert_exporter": "python",
   "pygments_lexer": "ipython3",
   "version": "3.10.8"
  }
 },
 "nbformat": 4,
 "nbformat_minor": 5
}
